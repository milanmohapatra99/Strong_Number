{
 "cells": [
  {
   "cell_type": "code",
   "execution_count": 3,
   "id": "b5b0fcb3",
   "metadata": {},
   "outputs": [
    {
     "name": "stdout",
     "output_type": "stream",
     "text": [
      "Enter a number:145\n",
      "Given number is a strong number\n"
     ]
    }
   ],
   "source": [
    "# w.a.p to find strong number\n",
    "sum=0  \n",
    "num=int(input(\"Enter a number:\"))  \n",
    "temp=num  \n",
    "while(num):  \n",
    "    i=1  \n",
    "   \n",
    "    fact=1  \n",
    "    rem=num%10  \n",
    "    while(i<=rem):  \n",
    "        fact=fact*i   \n",
    "        i=i+1  \n",
    "    sum=sum+fact  \n",
    "    num=num//10  \n",
    "if(sum==temp):  \n",
    "    print(\"Given number is a strong number\")  \n",
    "else:  \n",
    "    print(\"Given number is not a strong number\")   "
   ]
  },
  {
   "cell_type": "code",
   "execution_count": null,
   "id": "e6dd234d",
   "metadata": {},
   "outputs": [],
   "source": []
  }
 ],
 "metadata": {
  "kernelspec": {
   "display_name": "Python 3 (ipykernel)",
   "language": "python",
   "name": "python3"
  },
  "language_info": {
   "codemirror_mode": {
    "name": "ipython",
    "version": 3
   },
   "file_extension": ".py",
   "mimetype": "text/x-python",
   "name": "python",
   "nbconvert_exporter": "python",
   "pygments_lexer": "ipython3",
   "version": "3.9.7"
  }
 },
 "nbformat": 4,
 "nbformat_minor": 5
}
